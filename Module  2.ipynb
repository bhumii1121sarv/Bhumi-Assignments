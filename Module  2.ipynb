{
 "cells": [
  {
   "cell_type": "markdown",
   "id": "54e99a0c",
   "metadata": {},
   "source": [
    "# Modual 2"
   ]
  },
  {
   "cell_type": "code",
   "execution_count": 1,
   "id": "d17963ca",
   "metadata": {},
   "outputs": [
    {
     "name": "stdout",
     "output_type": "stream",
     "text": [
      "the number is positive\n"
     ]
    }
   ],
   "source": [
    "\"\"\"Write a Python program to check if a number is positive, negative or zero.\n",
    "  using else if method in this program\"\"\"\n",
    "num = 10            # using if else statment\n",
    "if num == 0 :   \n",
    "    print(\"the number is zero\")\n",
    "elif num >= 1 :\n",
    "    print(\"the number is positive\")\n",
    "elif num <= -1 :\n",
    "    print(\"the number is nagative\")                       \n",
    "\n"
   ]
  },
  {
   "cell_type": "code",
   "execution_count": 21,
   "id": "1a9a725e",
   "metadata": {},
   "outputs": [
    {
     "name": "stdout",
     "output_type": "stream",
     "text": [
      "enter a number5\n",
      "5\n"
     ]
    }
   ],
   "source": [
    "# WRITE A PYTHON PROGRAM GET FACTORIAL NUMBER OG GIVEN NUMBER\n",
    "a = int(input(\"enter a number\"))\n",
    "b = 1\n",
    "while a > 1 :  #enter value grater than 1.\n",
    "    b = b * a \n",
    "    a = a - 10\n",
    "    print(b)\n",
    "    \n",
    "\n",
    "    "
   ]
  },
  {
   "cell_type": "code",
   "execution_count": null,
   "id": "44d5b07e",
   "metadata": {},
   "outputs": [],
   "source": [
    "# Write python program that swap two number with temp variable and without temp variable\n",
    "a = 10  \n",
    "b = 15\n",
    "a,b = b,a    #TEMPARIORY VARIABLE.\n",
    "print(a)\n",
    "print(b)\n",
    "\n"
   ]
  },
  {
   "cell_type": "code",
   "execution_count": null,
   "id": "652d2e06",
   "metadata": {},
   "outputs": [],
   "source": [
    "\"\"\"\n",
    " Write a Python program to find whether a given number is even or odd, \n",
    "print out an appropriate message to the user.\n",
    "\"\"\"\n",
    "i = 60 \n",
    "if i % 2 == 0 :\n",
    "    print(\"the number is even\")   # ENTER EVEN NUMBER\n",
    "    print(\"i have both type of value even or odd\")\n",
    "else :\n",
    "    print(\"the number is odd\")     # ENTER ODD NUMBER\n",
    "    print(\"i have both type of value even or odd\")"
   ]
  },
  {
   "cell_type": "code",
   "execution_count": null,
   "id": "3e381aab",
   "metadata": {},
   "outputs": [],
   "source": [
    "\"\"\"Write a Python program to test whether a passed letter is a vowel or \n",
    "not.\"\"\"\n",
    "i = input(\"Enter alphabet \")   \n",
    "a = (\"a,i,e,o,u\")\n",
    "if i in a :\n",
    "    print(\"this is right\")\n",
    "else :                        # when not passed vowel number then result wrong\n",
    "    print(\"this is wrong\")"
   ]
  },
  {
   "cell_type": "code",
   "execution_count": null,
   "id": "9a336626",
   "metadata": {},
   "outputs": [],
   "source": [
    "\"\"\"\n",
    "Write a Python program to sum of three given integers. However, if \n",
    "two values are equal sum will be zero\n",
    "\"\"\"\n",
    "a = int(input(\"enter the number\"))   # enter yhe number\n",
    "b = int(input(\"enter the number\"))   # enter the number\n",
    "c = a%b\n",
    "print(c)\n",
    "\n"
   ]
  },
  {
   "cell_type": "code",
   "execution_count": 15,
   "id": "f8cc7b2b",
   "metadata": {},
   "outputs": [
    {
     "name": "stdout",
     "output_type": "stream",
     "text": [
      "Enter th number2\n",
      "Enter the number3\n"
     ]
    },
    {
     "data": {
      "text/plain": [
       "True"
      ]
     },
     "execution_count": 15,
     "metadata": {},
     "output_type": "execute_result"
    }
   ],
   "source": [
    "\"\"\"\n",
    "Write a Python program that will return true if the two given integer \n",
    "values are equal or their sum or difference is 5\n",
    "\"\"\"\n",
    "a = int(input(\"Enter th number\"))           # enetr the number\n",
    "b = int(input(\"Enter the number\"))\n",
    "c = a != b     # use not equal \n",
    "c"
   ]
  },
  {
   "cell_type": "code",
   "execution_count": 21,
   "id": "d50beb0d",
   "metadata": {},
   "outputs": [
    {
     "name": "stdout",
     "output_type": "stream",
     "text": [
      "1\n",
      "2\n",
      "3\n",
      "4\n",
      "5\n",
      "6\n",
      "7\n",
      "8\n",
      "9\n",
      "10\n"
     ]
    }
   ],
   "source": [
    "\"\"\"\n",
    "Write a python program to sum of the first n positive integers.\n",
    "\n",
    "\"\"\"\n",
    "\n",
    "for f in range (0 , 10) :   # use range \n",
    "    f += 1\n",
    "    print(f)\n",
    "\n"
   ]
  },
  {
   "cell_type": "code",
   "execution_count": 23,
   "id": "de2af260",
   "metadata": {},
   "outputs": [
    {
     "data": {
      "text/plain": [
       "11"
      ]
     },
     "execution_count": 23,
     "metadata": {},
     "output_type": "execute_result"
    }
   ],
   "source": [
    "\"\"\" Write a Python program to calculate the length of a string\"\"\"\n",
    "a = \"hello world\"\n",
    "len(a)         # length start to 1 . "
   ]
  },
  {
   "cell_type": "code",
   "execution_count": 25,
   "id": "09ab5802",
   "metadata": {},
   "outputs": [
    {
     "data": {
      "text/plain": [
       "5"
      ]
     },
     "execution_count": 25,
     "metadata": {},
     "output_type": "execute_result"
    }
   ],
   "source": [
    "\"\"\"Write a Python program to count the number of characters (character \n",
    "frequency) in a string\"\"\"\n",
    "d = \"my name is bhumika sarvaiya\"\n",
    "c = d.count(\"a\")           # count character frequency\n",
    "c"
   ]
  },
  {
   "cell_type": "code",
   "execution_count": 27,
   "id": "aa455770",
   "metadata": {},
   "outputs": [
    {
     "data": {
      "text/plain": [
       "3"
      ]
     },
     "execution_count": 27,
     "metadata": {},
     "output_type": "execute_result"
    }
   ],
   "source": [
    "\"\"\"Write a Python program to count occurrences of a substring in a string\"\"\"\n",
    "a = \"my name is bhumika ,my best friend is devo,my age is 20 and his age is 23\"\n",
    "s = a.count(\"my\")     # count sub string\n",
    "s"
   ]
  },
  {
   "cell_type": "code",
   "execution_count": 31,
   "id": "416f99e4",
   "metadata": {},
   "outputs": [
    {
     "data": {
      "text/plain": [
       "2"
      ]
     },
     "execution_count": 31,
     "metadata": {},
     "output_type": "execute_result"
    }
   ],
   "source": [
    "\"\"\"Write a Python program to count the occurrences of each word in a \n",
    "given sentence\"\"\"\n",
    "a = \"python is found by guido van roosum, python devloped in 1991\"\n",
    "vr = a.count(\"python\")\n",
    "vr\n"
   ]
  },
  {
   "cell_type": "code",
   "execution_count": 39,
   "id": "eb915f72",
   "metadata": {},
   "outputs": [
    {
     "name": "stdout",
     "output_type": "stream",
     "text": [
      "['pthon', 'devloper']\n",
      "PTHON,DEVLOPER\n"
     ]
    }
   ],
   "source": [
    "\"\"\"Write a Python program to get a single string from two given strings, \n",
    "separated by a space and swap the first two characters of each string.\"\"\"\n",
    "\n",
    "a = \"pthon,devloper\"\n",
    "e = a.split(\",\")          #use split method\n",
    "f = a.swapcase()          #use swapcase method\n",
    "print(e)\n",
    "print(f)\n"
   ]
  },
  {
   "cell_type": "code",
   "execution_count": null,
   "id": "82da5bde",
   "metadata": {},
   "outputs": [],
   "source": [
    "\"\"\"Write a Python program to add 'ing' at the end of a given string (length \n",
    "should be at least 3). If the given string already ends with 'ing' then add \n",
    "'ly' instead if the string length of the given string is less than 3, leave it \n",
    "unchanged.\"\"\"\n",
    "a = (input(\"enter the word\"))   # enter string \n",
    "s = a.endswith(\"ing\")\n",
    "print(len(a)<3)\n",
    "x = \"ly\"\n",
    "v = a+x\n",
    "\n"
   ]
  },
  {
   "cell_type": "code",
   "execution_count": 5,
   "id": "49e9065c",
   "metadata": {},
   "outputs": [
    {
     "ename": "TypeError",
     "evalue": "slice indices must be integers or None or have an __index__ method",
     "output_type": "error",
     "traceback": [
      "\u001b[1;31m---------------------------------------------------------------------------\u001b[0m",
      "\u001b[1;31mTypeError\u001b[0m                                 Traceback (most recent call last)",
      "Cell \u001b[1;32mIn[5], line 7\u001b[0m\n\u001b[0;32m      1\u001b[0m \u001b[38;5;124;03m\"\"\"Write a Python program to find the first appearance of the substring \u001b[39;00m\n\u001b[0;32m      2\u001b[0m \u001b[38;5;124;03m'not' and 'poor' from a given string, if 'not' follows the 'poor', \u001b[39;00m\n\u001b[0;32m      3\u001b[0m \u001b[38;5;124;03mreplace the \u001b[39;00m\n\u001b[0;32m      4\u001b[0m \u001b[38;5;124;03mwhole 'not'...'poor' substring with 'good'. Return the resulting string.\"\"\"\u001b[39;00m\n\u001b[0;32m      6\u001b[0m a \u001b[38;5;241m=\u001b[39m \u001b[38;5;124m\"\u001b[39m\u001b[38;5;124mthe organization is not good bcz it\u001b[39m\u001b[38;5;124m'\u001b[39m\u001b[38;5;124ms employee is poor.\u001b[39m\u001b[38;5;124m\"\u001b[39m\n\u001b[1;32m----> 7\u001b[0m b \u001b[38;5;241m=\u001b[39m \u001b[43ma\u001b[49m\u001b[38;5;241;43m.\u001b[39;49m\u001b[43mfind\u001b[49m\u001b[43m(\u001b[49m\u001b[38;5;124;43m\"\u001b[39;49m\u001b[38;5;124;43mnot\u001b[39;49m\u001b[38;5;124;43m\"\u001b[39;49m\u001b[43m,\u001b[49m\u001b[38;5;124;43m\"\u001b[39;49m\u001b[38;5;124;43mpoor\u001b[39;49m\u001b[38;5;124;43m\"\u001b[39;49m\u001b[43m)\u001b[49m\n\u001b[0;32m      8\u001b[0m \u001b[38;5;28mprint\u001b[39m(b)\n",
      "\u001b[1;31mTypeError\u001b[0m: slice indices must be integers or None or have an __index__ method"
     ]
    }
   ],
   "source": [
    "\"\"\"Write a Python program to find the first appearance of the substring \n",
    "'not' and 'poor' from a given string, if 'not' follows the 'poor', \n",
    "replace the \n",
    "whole 'not'...'poor' substring with 'good'. Return the resulting string.\"\"\"\n",
    "\n",
    "a = \"the organization is not good bcz it's employee is poor.\"\n",
    "b = a.find(\"not\",\"poor\")\n",
    "print(b)\n"
   ]
  },
  {
   "cell_type": "code",
   "execution_count": 6,
   "id": "6c24bd44",
   "metadata": {},
   "outputs": [
    {
     "name": "stdout",
     "output_type": "stream",
     "text": [
      "the organization is good good bcz it's employee is good.\n"
     ]
    }
   ],
   "source": [
    "#replace 'not','poor',to good.\n",
    "c = a.replace(\"not\",\"good\")\n",
    "d = c.replace(\"poor\",\"good\")\n",
    "print(d)"
   ]
  },
  {
   "cell_type": "code",
   "execution_count": 13,
   "id": "2247d726",
   "metadata": {},
   "outputs": [
    {
     "ename": "TypeError",
     "evalue": "len() takes exactly one argument (2 given)",
     "output_type": "error",
     "traceback": [
      "\u001b[1;31m---------------------------------------------------------------------------\u001b[0m",
      "\u001b[1;31mTypeError\u001b[0m                                 Traceback (most recent call last)",
      "Cell \u001b[1;32mIn[13], line 6\u001b[0m\n\u001b[0;32m      1\u001b[0m \u001b[38;5;124;03m\"\"\"  \u001b[39;00m\n\u001b[0;32m      2\u001b[0m \u001b[38;5;124;03m Write a Python function that takes a list of words and returns the length \u001b[39;00m\n\u001b[0;32m      3\u001b[0m \u001b[38;5;124;03mof the longest one.\u001b[39;00m\n\u001b[0;32m      4\u001b[0m \u001b[38;5;124;03m\"\"\"\u001b[39;00m\n\u001b[0;32m      5\u001b[0m a \u001b[38;5;241m=\u001b[39m \u001b[38;5;124m\"\u001b[39m\u001b[38;5;124mmy name is bhumika\u001b[39m\u001b[38;5;124m\"\u001b[39m\n\u001b[1;32m----> 6\u001b[0m \u001b[38;5;28mprint\u001b[39m(\u001b[38;5;28;43mlen\u001b[39;49m\u001b[43m(\u001b[49m\u001b[38;5;241;43m12\u001b[39;49m\u001b[43m,\u001b[49m\u001b[38;5;241;43m19\u001b[39;49m\u001b[43m)\u001b[49m)\n",
      "\u001b[1;31mTypeError\u001b[0m: len() takes exactly one argument (2 given)"
     ]
    }
   ],
   "source": [
    "\"\"\"  \n",
    " Write a Python function that takes a list of words and returns the length \n",
    "of the longest one.\n",
    "\"\"\"\n",
    "a = \"my name is bhumika\"\n",
    "print(len(12,19))"
   ]
  },
  {
   "cell_type": "code",
   "execution_count": 15,
   "id": "d2cc5c23",
   "metadata": {},
   "outputs": [
    {
     "data": {
      "text/plain": [
       "\"the organization is good good bcz it's employee is poor.\""
      ]
     },
     "execution_count": 15,
     "metadata": {},
     "output_type": "execute_result"
    }
   ],
   "source": [
    "\"\"\"\n",
    "Write a Python function to reverses a string if its length is a multiple of 4.\n",
    "\n",
    "\"\"\"\n",
    "color = \"pink\",\"red\",\"black\",\"blue\"\n",
    "g = c\n",
    "g"
   ]
  },
  {
   "cell_type": "code",
   "execution_count": 19,
   "id": "57a9b991",
   "metadata": {},
   "outputs": [
    {
     "name": "stdout",
     "output_type": "stream",
     "text": [
      "enter a stringhello\n",
      "hel\n"
     ]
    }
   ],
   "source": [
    "\"\"\"   \n",
    "Write a Python program to get a string made of the first 2 and the last \n",
    "2 chars from a given a string. If the string length is less than 2, return \n",
    "instead of the empty string\n",
    "\n",
    "\"\"\"\n",
    "s = input(\"enter a string\")\n",
    "if len(s)<2:\n",
    "    result = \" \"\n",
    "else:\n",
    "    result = s[:2]+s[-2]\n",
    "print(result)"
   ]
  },
  {
   "cell_type": "code",
   "execution_count": 18,
   "id": "c12cdec5",
   "metadata": {},
   "outputs": [
    {
     "name": "stdout",
     "output_type": "stream",
     "text": [
      "['name', 'contect', 'address']\n"
     ]
    }
   ],
   "source": [
    "\"\"\"\n",
    "Write a Python function to insert a string in the middle of a string.\n",
    "\n",
    "\"\"\"\n",
    "a = [\"name\",\"address\"]\n",
    "a.insert(1,\"contect\")# insert contact in \n",
    "print(a)\n"
   ]
  }
 ],
 "metadata": {
  "kernelspec": {
   "display_name": "Python 3 (ipykernel)",
   "language": "python",
   "name": "python3"
  },
  "language_info": {
   "codemirror_mode": {
    "name": "ipython",
    "version": 3
   },
   "file_extension": ".py",
   "mimetype": "text/x-python",
   "name": "python",
   "nbconvert_exporter": "python",
   "pygments_lexer": "ipython3",
   "version": "3.10.9"
  }
 },
 "nbformat": 4,
 "nbformat_minor": 5
}
